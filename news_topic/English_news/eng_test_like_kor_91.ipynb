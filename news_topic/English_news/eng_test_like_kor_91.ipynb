{
  "metadata": {
    "kernelspec": {
      "language": "python",
      "display_name": "Python 3",
      "name": "python3"
    },
    "language_info": {
      "name": "python",
      "version": "3.7.12",
      "mimetype": "text/x-python",
      "codemirror_mode": {
        "name": "ipython",
        "version": 3
      },
      "pygments_lexer": "ipython3",
      "nbconvert_exporter": "python",
      "file_extension": ".py"
    },
    "colab": {
      "name": "eng-test-like-kor_91.ipynb",
      "provenance": []
    }
  },
  "nbformat_minor": 0,
  "nbformat": 4,
  "cells": [
    {
      "cell_type": "code",
      "source": [
        "conda create -n simpletransformers python pandas tqdm -y"
      ],
      "metadata": {
        "execution": {
          "iopub.status.busy": "2022-04-16T15:09:57.636417Z",
          "iopub.execute_input": "2022-04-16T15:09:57.636695Z",
          "iopub.status.idle": "2022-04-16T15:10:50.489652Z",
          "shell.execute_reply.started": "2022-04-16T15:09:57.636662Z",
          "shell.execute_reply": "2022-04-16T15:10:50.488840Z"
        },
        "collapsed": true,
        "jupyter": {
          "outputs_hidden": true
        },
        "trusted": true,
        "id": "2U72ZOyUAIOT"
      },
      "execution_count": null,
      "outputs": []
    },
    {
      "cell_type": "code",
      "source": [
        "conda activate simpletransformers"
      ],
      "metadata": {
        "execution": {
          "iopub.status.busy": "2022-04-16T15:11:45.428467Z",
          "iopub.execute_input": "2022-04-16T15:11:45.429021Z",
          "iopub.status.idle": "2022-04-16T15:11:46.447717Z",
          "shell.execute_reply.started": "2022-04-16T15:11:45.428924Z",
          "shell.execute_reply": "2022-04-16T15:11:46.446811Z"
        },
        "collapsed": true,
        "jupyter": {
          "outputs_hidden": true
        },
        "trusted": true,
        "id": "389cg4pYAIOT"
      },
      "execution_count": null,
      "outputs": []
    },
    {
      "cell_type": "code",
      "source": [
        "conda install pytorch cpuonly -c pytorch"
      ],
      "metadata": {
        "execution": {
          "iopub.status.busy": "2022-04-16T15:13:31.011222Z",
          "iopub.execute_input": "2022-04-16T15:13:31.011507Z",
          "iopub.status.idle": "2022-04-16T15:15:03.024859Z",
          "shell.execute_reply.started": "2022-04-16T15:13:31.011473Z",
          "shell.execute_reply": "2022-04-16T15:15:03.024065Z"
        },
        "collapsed": true,
        "jupyter": {
          "outputs_hidden": true
        },
        "trusted": true,
        "id": "ZRNGUnJeAIOU"
      },
      "execution_count": null,
      "outputs": []
    },
    {
      "cell_type": "code",
      "source": [
        "!pip install -U transformers==4.7.0 datasets scipy scikit-learn"
      ],
      "metadata": {
        "id": "8MZH5a2E3FOX",
        "execution": {
          "iopub.status.busy": "2022-04-16T16:07:34.532078Z",
          "iopub.execute_input": "2022-04-16T16:07:34.532682Z",
          "iopub.status.idle": "2022-04-16T16:07:58.260735Z",
          "shell.execute_reply.started": "2022-04-16T16:07:34.532644Z",
          "shell.execute_reply": "2022-04-16T16:07:58.259605Z"
        },
        "collapsed": true,
        "jupyter": {
          "outputs_hidden": true
        },
        "trusted": true
      },
      "execution_count": null,
      "outputs": []
    },
    {
      "cell_type": "code",
      "source": [
        "import matplotlib.pyplot as plt\n",
        "import random\n",
        "import logging\n",
        "from IPython.display import display, HTML\n",
        "\n",
        "import numpy as np\n",
        "import pandas as pd\n",
        "import datasets\n",
        "from datasets import Dataset, load_dataset, load_metric, ClassLabel, Sequence\n",
        "from transformers import AutoTokenizer, AutoModelForSequenceClassification, TrainingArguments, Trainer\n",
        "from sklearn.model_selection import train_test_split\n",
        "\n",
        "from sklearn.metrics import precision_recall_fscore_support\n",
        "\n",
        "# TRAIN_FILE_PATH = '/content/drive/MyDrive/mini_project/english_news/English_news_data/en_news_with_health.csv'\n",
        "TRAIN_FILE_PATH = '/kaggle/input/english-data/en_final_dataset.csv'  # 정치 데이터\n"
      ],
      "metadata": {
        "id": "ynSyRvFV3HSz",
        "execution": {
          "iopub.status.busy": "2022-04-16T16:08:12.205592Z",
          "iopub.execute_input": "2022-04-16T16:08:12.205879Z",
          "iopub.status.idle": "2022-04-16T16:08:19.204398Z",
          "shell.execute_reply.started": "2022-04-16T16:08:12.205837Z",
          "shell.execute_reply": "2022-04-16T16:08:19.203456Z"
        },
        "trusted": true
      },
      "execution_count": null,
      "outputs": []
    },
    {
      "cell_type": "code",
      "source": [
        "data = pd.read_csv(TRAIN_FILE_PATH)\n",
        "\n",
        "data = data.rename(columns={'topic_idx':'label'})\n",
        "data['label'] = data['label'].astype('int')\n",
        "\n",
        "data_dummies = pd.get_dummies(data, columns=['label'])\n",
        "\n",
        "data_dummies.head()"
      ],
      "metadata": {
        "execution": {
          "iopub.status.busy": "2022-04-16T16:08:19.206143Z",
          "iopub.execute_input": "2022-04-16T16:08:19.206423Z",
          "iopub.status.idle": "2022-04-16T16:08:19.335485Z",
          "shell.execute_reply.started": "2022-04-16T16:08:19.206384Z",
          "shell.execute_reply": "2022-04-16T16:08:19.334802Z"
        },
        "trusted": true,
        "id": "Qqv7UXzGAIPJ"
      },
      "execution_count": null,
      "outputs": []
    },
    {
      "cell_type": "code",
      "source": [
        "data = data_dummies.drop(['Unnamed: 0', 'title_len'], axis=1)\n",
        "data"
      ],
      "metadata": {
        "execution": {
          "iopub.status.busy": "2022-04-16T16:08:23.854078Z",
          "iopub.execute_input": "2022-04-16T16:08:23.854392Z",
          "iopub.status.idle": "2022-04-16T16:08:23.873933Z",
          "shell.execute_reply.started": "2022-04-16T16:08:23.854359Z",
          "shell.execute_reply": "2022-04-16T16:08:23.873187Z"
        },
        "trusted": true,
        "id": "KlZtPOTwAIPK"
      },
      "execution_count": null,
      "outputs": []
    },
    {
      "cell_type": "code",
      "source": [
        "# 사이트 \n",
        "data['labels'] = list(zip(data.label_0.tolist(), data.label_1.tolist(), data.label_2.tolist(), data.label_3.tolist(),  data.label_4.tolist(), data.label_5.tolist(), data.label_6.tolist()))\n",
        "data['text'] = data['title'].apply(lambda x: x.replace('\\n', ' '))\n",
        "\n",
        "data.head()"
      ],
      "metadata": {
        "execution": {
          "iopub.status.busy": "2022-04-16T16:08:27.624855Z",
          "iopub.execute_input": "2022-04-16T16:08:27.625122Z",
          "iopub.status.idle": "2022-04-16T16:08:27.684908Z",
          "shell.execute_reply.started": "2022-04-16T16:08:27.625093Z",
          "shell.execute_reply": "2022-04-16T16:08:27.684155Z"
        },
        "trusted": true,
        "id": "5KFAuFMIAIPL"
      },
      "execution_count": null,
      "outputs": []
    },
    {
      "cell_type": "code",
      "source": [
        "# 사이트\n",
        "\n",
        "from sklearn.model_selection import train_test_split\n",
        "\n",
        "\n",
        "train_df, eval_df = train_test_split(data, test_size=0.2)"
      ],
      "metadata": {
        "execution": {
          "iopub.status.busy": "2022-04-16T16:08:32.759583Z",
          "iopub.execute_input": "2022-04-16T16:08:32.760086Z",
          "iopub.status.idle": "2022-04-16T16:08:32.775663Z",
          "shell.execute_reply.started": "2022-04-16T16:08:32.760052Z",
          "shell.execute_reply": "2022-04-16T16:08:32.774929Z"
        },
        "trusted": true,
        "id": "gaD3TcpOAIPM"
      },
      "execution_count": null,
      "outputs": []
    },
    {
      "cell_type": "code",
      "source": [
        "# train_df.head()"
      ],
      "metadata": {
        "execution": {
          "iopub.status.busy": "2022-04-16T16:08:35.881641Z",
          "iopub.execute_input": "2022-04-16T16:08:35.882491Z",
          "iopub.status.idle": "2022-04-16T16:08:35.895907Z",
          "shell.execute_reply.started": "2022-04-16T16:08:35.882456Z",
          "shell.execute_reply": "2022-04-16T16:08:35.895181Z"
        },
        "trusted": true,
        "id": "iy-XpAz_AIPN"
      },
      "execution_count": null,
      "outputs": []
    },
    {
      "cell_type": "code",
      "source": [
        "!pip install simpletransformers"
      ],
      "metadata": {
        "execution": {
          "iopub.status.busy": "2022-04-16T16:08:39.424077Z",
          "iopub.execute_input": "2022-04-16T16:08:39.424577Z",
          "iopub.status.idle": "2022-04-16T16:08:56.765536Z",
          "shell.execute_reply.started": "2022-04-16T16:08:39.424540Z",
          "shell.execute_reply": "2022-04-16T16:08:56.764672Z"
        },
        "collapsed": true,
        "jupyter": {
          "outputs_hidden": true
        },
        "trusted": true,
        "id": "Mc7wA-LUAIPb"
      },
      "execution_count": null,
      "outputs": []
    },
    {
      "cell_type": "code",
      "source": [
        "# 사이트\n",
        "from simpletransformers.classification import MultiLabelClassificationModel\n",
        "\n",
        "model = MultiLabelClassificationModel('roberta', 'roberta-base', num_labels=7, args={'train_batch_size':2, 'gradient_accumulation_steps':16, 'learning_rate': 3e-5, 'num_train_epochs': 3, 'max_seq_length': 100})"
      ],
      "metadata": {
        "execution": {
          "iopub.status.busy": "2022-04-16T16:09:06.725894Z",
          "iopub.execute_input": "2022-04-16T16:09:06.726169Z",
          "iopub.status.idle": "2022-04-16T16:09:37.488822Z",
          "shell.execute_reply.started": "2022-04-16T16:09:06.726137Z",
          "shell.execute_reply": "2022-04-16T16:09:37.487893Z"
        },
        "trusted": true,
        "id": "Gh5JoWFPAIPb"
      },
      "execution_count": null,
      "outputs": []
    },
    {
      "cell_type": "code",
      "source": [
        "# self.args = {\n",
        "#     \"output_dir\": \"outputs/\",\n",
        "#     \"cache_dir\": \"cache_dir/\",\n",
        "\n",
        "#     \"fp16\": True,\n",
        "#     \"fp16_opt_level\": \"O1\",\n",
        "#     \"max_seq_length\": 128,\n",
        "#     \"train_batch_size\": 8,\n",
        "#     \"gradient_accumulation_steps\": 1,\n",
        "#     \"eval_batch_size\": 8,\n",
        "#     \"num_train_epochs\": 1,\n",
        "#     \"weight_decay\": 0,\n",
        "#     \"learning_rate\": 4e-5,\n",
        "#     \"adam_epsilon\": 1e-8,\n",
        "#     \"warmup_ratio\": 0.06,\n",
        "#     \"warmup_steps\": 0,\n",
        "#     \"max_grad_norm\": 1.0,\n",
        "\n",
        "#     \"logging_steps\": 50,\n",
        "#     \"save_steps\": 2000,\n",
        "\n",
        "#     \"overwrite_output_dir\": False,\n",
        "#     \"reprocess_input_data\": False,\n",
        "#     \"evaluate_during_training\": False,\n",
        "\n",
        "#     \"process_count\": cpu_count() - 2 if cpu_count() > 2 else 1,\n",
        "#     \"n_gpu\": 1,\n",
        "# }"
      ],
      "metadata": {
        "execution": {
          "iopub.status.busy": "2022-04-16T15:19:49.396249Z",
          "iopub.execute_input": "2022-04-16T15:19:49.396534Z",
          "iopub.status.idle": "2022-04-16T15:19:49.454840Z",
          "shell.execute_reply.started": "2022-04-16T15:19:49.396504Z",
          "shell.execute_reply": "2022-04-16T15:19:49.452495Z"
        },
        "collapsed": true,
        "jupyter": {
          "outputs_hidden": true
        },
        "trusted": true,
        "id": "pFdtOWyIAIPc"
      },
      "execution_count": null,
      "outputs": []
    },
    {
      "cell_type": "code",
      "source": [
        "model.train_model(train_df, error_if_nonfinite=False)"
      ],
      "metadata": {
        "execution": {
          "iopub.status.busy": "2022-04-16T16:10:13.963822Z",
          "iopub.execute_input": "2022-04-16T16:10:13.964320Z",
          "iopub.status.idle": "2022-04-16T16:41:40.862682Z",
          "shell.execute_reply.started": "2022-04-16T16:10:13.964283Z",
          "shell.execute_reply": "2022-04-16T16:41:40.861939Z"
        },
        "trusted": true,
        "id": "FJMaW9blAIPp"
      },
      "execution_count": null,
      "outputs": []
    },
    {
      "cell_type": "code",
      "source": [
        "result, model_outputs, wrong_predictions = model.eval_model(eval_df)"
      ],
      "metadata": {
        "execution": {
          "iopub.status.busy": "2022-04-16T16:42:54.398487Z",
          "iopub.execute_input": "2022-04-16T16:42:54.398758Z",
          "iopub.status.idle": "2022-04-16T16:43:27.964532Z",
          "shell.execute_reply.started": "2022-04-16T16:42:54.398728Z",
          "shell.execute_reply": "2022-04-16T16:43:27.963733Z"
        },
        "trusted": true,
        "id": "gs2avtirAIPp"
      },
      "execution_count": null,
      "outputs": []
    },
    {
      "cell_type": "code",
      "source": [
        "result, model_outputs # 정확도, eval_loss 출력"
      ],
      "metadata": {
        "execution": {
          "iopub.status.busy": "2022-04-16T16:45:13.983740Z",
          "iopub.execute_input": "2022-04-16T16:45:13.983999Z",
          "iopub.status.idle": "2022-04-16T16:45:13.990327Z",
          "shell.execute_reply.started": "2022-04-16T16:45:13.983971Z",
          "shell.execute_reply": "2022-04-16T16:45:13.989677Z"
        },
        "trusted": true,
        "id": "v0G8Kv9cAIPq"
      },
      "execution_count": null,
      "outputs": []
    },
    {
      "cell_type": "code",
      "source": [
        "predictions, raw_outputs = model.predict([\"Sam was a Wizard\"]) # 테스트용"
      ],
      "metadata": {
        "execution": {
          "iopub.status.busy": "2022-04-16T16:43:57.587513Z",
          "iopub.execute_input": "2022-04-16T16:43:57.588045Z",
          "iopub.status.idle": "2022-04-16T16:43:57.925363Z",
          "shell.execute_reply.started": "2022-04-16T16:43:57.588005Z",
          "shell.execute_reply": "2022-04-16T16:43:57.924515Z"
        },
        "trusted": true,
        "id": "75MJXheEAIPq"
      },
      "execution_count": null,
      "outputs": []
    },
    {
      "cell_type": "code",
      "source": [
        "predictions, raw_outputs"
      ],
      "metadata": {
        "execution": {
          "iopub.status.busy": "2022-04-16T16:43:58.135196Z",
          "iopub.execute_input": "2022-04-16T16:43:58.135695Z",
          "iopub.status.idle": "2022-04-16T16:43:58.143692Z",
          "shell.execute_reply.started": "2022-04-16T16:43:58.135658Z",
          "shell.execute_reply": "2022-04-16T16:43:58.142919Z"
        },
        "trusted": true,
        "id": "p_YsEPf4AIPq"
      },
      "execution_count": null,
      "outputs": []
    },
    {
      "cell_type": "code",
      "source": [
        ""
      ],
      "metadata": {
        "id": "HoPs1omBAIPq"
      },
      "execution_count": null,
      "outputs": []
    },
    {
      "cell_type": "code",
      "source": [
        ""
      ],
      "metadata": {
        "id": "6prtmCVL6BWI"
      },
      "execution_count": null,
      "outputs": []
    }
  ]
}